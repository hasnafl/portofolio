{
 "cells": [
  {
   "cell_type": "code",
   "execution_count": 156,
   "metadata": {},
   "outputs": [],
   "source": [
    "import mysql.connector\n",
    "import json\n",
    "import collections\n",
    "\n",
    "mydb = mysql.connector.connect(\n",
    "  host=\"localhost\",\n",
    "  user=\"root\",\n",
    "  passwd=\"\",\n",
    "  database=\"chatbot\"\n",
    ")\n",
    "\n",
    "mycursor = mydb.cursor()\n"
   ]
  },
  {
   "cell_type": "code",
   "execution_count": 157,
   "metadata": {},
   "outputs": [
    {
     "name": "stdout",
     "output_type": "stream",
     "text": [
      "['noa']\n",
      "['noa', 'noa itu apa?']\n",
      "['fob']\n",
      "[OrderedDict([('tag', 'noa'), ('pattern', ['noa', 'noa itu apa?']), ('responses', ['NOA adalah Notice of Arrival yaitu surat pemberitahuan estimasi pajak yang harus dibayarkan'])]), OrderedDict([('tag', 'fob'), ('pattern', ['fob']), ('responses', ['FOB adalah Harga dasar pembelian yang tertera di invoice'])])]\n",
      "{'pengetahuan': [{'tag': 'noa', 'pattern': ['noa', 'noa itu apa?'], 'responses': ['NOA adalah Notice of Arrival yaitu surat pemberitahuan estimasi pajak yang harus dibayarkan']}, {'tag': 'fob', 'pattern': ['fob'], 'responses': ['FOB adalah Harga dasar pembelian yang tertera di invoice']}]}\n"
     ]
    }
   ],
   "source": [
    "mycursor.execute(\"select tag.tag_id, tag.tag, pattern.pattern, tag.responses FROM tag JOIN pattern WHERE tag.tag_id=pattern.tag_id\")\n",
    "rows = mycursor.fetchall()\n",
    "objects_list = []\n",
    "pattern_list =[]\n",
    "sametag_list =[]\n",
    "for row in rows:\n",
    "    d = collections.OrderedDict()\n",
    "    d['tag'] = row[1]\n",
    "    d['pattern'] = [row[2]]\n",
    "    d['responses'] = [row[3]]\n",
    "    a = d['tag']\n",
    "    c = d['pattern']\n",
    "    if len(objects_list)==0:\n",
    "        objects_list.append(d)\n",
    "    else:\n",
    "        for objects in objects_list:\n",
    "            b = objects['tag']\n",
    "            e = objects['pattern'] \n",
    "            print(e)\n",
    "            if(a!=b):\n",
    "                objects_list.append(d)\n",
    "            elif(a==b and e!=c):\n",
    "                e = e.append(c[0])\n",
    "\n",
    "print(objects_list)\n",
    "x = {'pengetahuan': objects_list}\n",
    "j = json.dumps(x, indent=4, separators=(',', ': '))\n",
    "with open('student_objects.json', 'w') as f:\n",
    "    f.write(j)\n",
    "f = open('student_objects.json',) \n",
    "data = json.load(f) \n",
    "print(data)"
   ]
  },
  {
   "cell_type": "code",
   "execution_count": null,
   "metadata": {},
   "outputs": [],
   "source": []
  },
  {
   "cell_type": "code",
   "execution_count": null,
   "metadata": {},
   "outputs": [],
   "source": []
  }
 ],
 "metadata": {
  "kernelspec": {
   "display_name": "Python 3",
   "language": "python",
   "name": "python3"
  },
  "language_info": {
   "codemirror_mode": {
    "name": "ipython",
    "version": 3
   },
   "file_extension": ".py",
   "mimetype": "text/x-python",
   "name": "python",
   "nbconvert_exporter": "python",
   "pygments_lexer": "ipython3",
   "version": "3.7.5"
  }
 },
 "nbformat": 4,
 "nbformat_minor": 2
}
