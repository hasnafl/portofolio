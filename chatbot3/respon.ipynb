{
 "cells": [
  {
   "cell_type": "code",
   "execution_count": 1,
   "metadata": {},
   "outputs": [
    {
     "name": "stderr",
     "output_type": "stream",
     "text": [
      "c:\\miniconda3\\lib\\site-packages\\tensorflow\\python\\framework\\dtypes.py:526: FutureWarning: Passing (type, 1) or '1type' as a synonym of type is deprecated; in a future version of numpy, it will be understood as (type, (1,)) / '(1,)type'.\n",
      "  _np_qint8 = np.dtype([(\"qint8\", np.int8, 1)])\n",
      "c:\\miniconda3\\lib\\site-packages\\tensorflow\\python\\framework\\dtypes.py:527: FutureWarning: Passing (type, 1) or '1type' as a synonym of type is deprecated; in a future version of numpy, it will be understood as (type, (1,)) / '(1,)type'.\n",
      "  _np_quint8 = np.dtype([(\"quint8\", np.uint8, 1)])\n",
      "c:\\miniconda3\\lib\\site-packages\\tensorflow\\python\\framework\\dtypes.py:528: FutureWarning: Passing (type, 1) or '1type' as a synonym of type is deprecated; in a future version of numpy, it will be understood as (type, (1,)) / '(1,)type'.\n",
      "  _np_qint16 = np.dtype([(\"qint16\", np.int16, 1)])\n",
      "c:\\miniconda3\\lib\\site-packages\\tensorflow\\python\\framework\\dtypes.py:529: FutureWarning: Passing (type, 1) or '1type' as a synonym of type is deprecated; in a future version of numpy, it will be understood as (type, (1,)) / '(1,)type'.\n",
      "  _np_quint16 = np.dtype([(\"quint16\", np.uint16, 1)])\n",
      "c:\\miniconda3\\lib\\site-packages\\tensorflow\\python\\framework\\dtypes.py:530: FutureWarning: Passing (type, 1) or '1type' as a synonym of type is deprecated; in a future version of numpy, it will be understood as (type, (1,)) / '(1,)type'.\n",
      "  _np_qint32 = np.dtype([(\"qint32\", np.int32, 1)])\n",
      "c:\\miniconda3\\lib\\site-packages\\tensorflow\\python\\framework\\dtypes.py:535: FutureWarning: Passing (type, 1) or '1type' as a synonym of type is deprecated; in a future version of numpy, it will be understood as (type, (1,)) / '(1,)type'.\n",
      "  np_resource = np.dtype([(\"resource\", np.ubyte, 1)])\n"
     ]
    },
    {
     "name": "stdout",
     "output_type": "stream",
     "text": [
      "curses is not supported on this machine (please install/reinstall curses for an optimal experience)\n",
      "WARNING:tensorflow:From c:\\miniconda3\\lib\\site-packages\\tensorflow\\python\\framework\\op_def_library.py:263: colocate_with (from tensorflow.python.framework.ops) is deprecated and will be removed in a future version.\n",
      "Instructions for updating:\n",
      "Colocations handled automatically by placer.\n"
     ]
    }
   ],
   "source": [
    "import os\n",
    "import sys\n",
    "from django.conf import settings\n",
    "import numpy as np\n",
    "import tflearn\n",
    "import random\n",
    "import pickle\n",
    "import json\n",
    "import nltk\n",
    "from Sastrawi.Stemmer.StemmerFactory import StemmerFactory\n",
    "from flask import Flask, render_template, request\n",
    "app = Flask(__name__, template_folder='template')"
   ]
  },
  {
   "cell_type": "code",
   "execution_count": 2,
   "metadata": {},
   "outputs": [],
   "source": [
    "factory = StemmerFactory()\n",
    "stemmer = factory.create_stemmer()\n",
    "training_file = ('C:/xampp/htdocs/chatbot/training_data')\n",
    "data = pickle.load(open(training_file, \"rb\"))"
   ]
  },
  {
   "cell_type": "code",
   "execution_count": 3,
   "metadata": {},
   "outputs": [],
   "source": [
    "words = data['words']\n",
    "classes = data['classes']\n",
    "train_x = data['train_x']\n",
    "train_y = data['train_y']"
   ]
  },
  {
   "cell_type": "code",
   "execution_count": 4,
   "metadata": {},
   "outputs": [],
   "source": [
    "pengetahuan = ('C:/xampp/htdocs/chatbot/pengetahuan.json')\n",
    "\n",
    "with open(pengetahuan) as json_data:\n",
    "    pengetahuan = json.load(json_data)"
   ]
  },
  {
   "cell_type": "code",
   "execution_count": 5,
   "metadata": {},
   "outputs": [],
   "source": [
    "# load deepneuralnet\n",
    "input_h = tflearn.input_data(shape=(None, len(train_x[0])))\n",
    "h2 = tflearn.fully_connected(input_h, 9)\n",
    "h3 = tflearn.fully_connected(h2, 18)\n",
    "h4 = tflearn.fully_connected(h3, 18)\n",
    "h5 = tflearn.fully_connected(h4, 9)"
   ]
  },
  {
   "cell_type": "code",
   "execution_count": 6,
   "metadata": {},
   "outputs": [
    {
     "name": "stdout",
     "output_type": "stream",
     "text": [
      "WARNING:tensorflow:From c:\\miniconda3\\lib\\site-packages\\tflearn\\objectives.py:66: calling reduce_sum_v1 (from tensorflow.python.ops.math_ops) with keep_dims is deprecated and will be removed in a future version.\n",
      "Instructions for updating:\n",
      "keep_dims is deprecated, use keepdims instead\n",
      "WARNING:tensorflow:From c:\\miniconda3\\lib\\site-packages\\tensorflow\\python\\ops\\math_ops.py:3066: to_int32 (from tensorflow.python.ops.math_ops) is deprecated and will be removed in a future version.\n",
      "Instructions for updating:\n",
      "Use tf.cast instead.\n"
     ]
    }
   ],
   "source": [
    "output_h = tflearn.fully_connected(h5, len(train_y[0]), activation='softmax')\n",
    "output_h_reg = tflearn.regression(output_h)\n",
    "# Define model dan setup tensorboard\n",
    "model = tflearn.DNN(output_h_reg, tensorboard_dir='tflearn_logs')"
   ]
  },
  {
   "cell_type": "code",
   "execution_count": 7,
   "metadata": {},
   "outputs": [],
   "source": [
    "def clean_up_sentence(sentence):\n",
    "    sentence_words = nltk.word_tokenize(sentence)\n",
    "    sentence_words = [stemmer.stem(word.lower()) for word in sentence_words]\n",
    "    return sentence_words\n",
    "def bow(sentence, words, show_details=False):\n",
    "    sentence_words = clean_up_sentence(sentence)\n",
    "    bag = [0]*len(words)\n",
    "    for s in sentence_words:\n",
    "        for i,w in enumerate(words):\n",
    "            if w == s:\n",
    "                bag[i] = 1\n",
    "                if show_details:\n",
    "                    print(\"test : %s\" % w)\n",
    "    return np.array(bag)"
   ]
  },
  {
   "cell_type": "code",
   "execution_count": 8,
   "metadata": {},
   "outputs": [
    {
     "name": "stdout",
     "output_type": "stream",
     "text": [
      "WARNING:tensorflow:From c:\\miniconda3\\lib\\site-packages\\tensorflow\\python\\training\\saver.py:1266: checkpoint_exists (from tensorflow.python.training.checkpoint_management) is deprecated and will be removed in a future version.\n",
      "Instructions for updating:\n",
      "Use standard file APIs to check for files with this prefix.\n",
      "INFO:tensorflow:Restoring parameters from C:/xampp/htdocs/chatbot/./model.tflearn\n"
     ]
    }
   ],
   "source": [
    "# load model yang disimpan\n",
    "load_model = ('C:/xampp/htdocs/chatbot/./model.tflearn')\n",
    "model.load(load_model)\n",
    "\n",
    "context = {}\n",
    "\n",
    "ERROR_THRESHOLD = 0.25"
   ]
  },
  {
   "cell_type": "code",
   "execution_count": 9,
   "metadata": {},
   "outputs": [],
   "source": [
    "def classify(sentence):\n",
    "    results = model.predict([bow(sentence, words)])[0]\n",
    "    results = [[i, r] for i, r in enumerate(results) if r > ERROR_THRESHOLD]\n",
    "    results.sort(key=lambda x: x[1], reverse=True)\n",
    "    return_list = []\n",
    "    for r in results:\n",
    "        return_list.append((classes[r[0]], r[1]))\n",
    "\n",
    "    return return_list\n",
    "def response(sentence, userid='hasnafl', show_details=False):\n",
    "    results = classify(sentence)\n",
    "\n",
    "    if results:\n",
    "        while results:\n",
    "            for i in pengetahuan['pengetahuan']:\n",
    "                if i['tag'] == results[0][0]:\n",
    "                    if 'context_set' in i:\n",
    "                        if show_details:\n",
    "                            print('context:', i['context_set'])\n",
    "                        context[userid] = i['context_set']\n",
    "                        output_var = str(random.choice(i['responses']))\n",
    "                        return output_var\n",
    "\n",
    "                    if not 'context_filter' in i or \\\n",
    "                        (userid in context and 'context_filter' in i and i['context_filter'] == context[userid]):\n",
    "                        if show_details:\n",
    "                            print('tag:', i['tag'])\n",
    "                        context_filter = i.get('context_filter', '')\n",
    "                        output_var = str(random.choice(i['responses']))\n",
    "                        return output_var\n",
    "\n",
    "            results.pop(0)"
   ]
  },
  {
   "cell_type": "code",
   "execution_count": 10,
   "metadata": {},
   "outputs": [],
   "source": [
    "def dir_last_updated(folder):\n",
    "    return str(max(os.path.getmtime(os.path.join(root_path, f))\n",
    "                   for root_path, dirs, files in os.walk(folder)\n",
    "                   for f in files))\n",
    "#define app routes\n",
    "@app.route(\"/\")\n",
    "def index():\n",
    "    return render_template(\"index4.html\", last_updated=dir_last_updated('C:/xampp/htdocs/chatbot/static'))"
   ]
  },
  {
   "cell_type": "code",
   "execution_count": 11,
   "metadata": {},
   "outputs": [],
   "source": [
    "@app.route(\"/get\")\n",
    "#function for the bot response\n",
    "def get_bot_response():\n",
    "    userText = request.args.get('msg')\n",
    "#     print(userText)\n",
    "    import mysql.connector\n",
    "    mydb = mysql.connector.connect(\n",
    "      host=\"localhost\",\n",
    "      user=\"root\",\n",
    "      passwd=\"\",\n",
    "      database=\"chatbot\"\n",
    "    )\n",
    "    mycursor = mydb.cursor()\n",
    "    a = \"A111\"\n",
    "    b = \"Hi\"\n",
    "    c = response(userText)\n",
    "    d = 2\n",
    "    sql = \"INSERT INTO chatbot_response (id_user, user_message, bot_response, id_chat) VALUES (%s, %s, %s, %s)\"\n",
    "    val = (a,userText,c,d)\n",
    "\n",
    "    mycursor.execute(sql, val)\n",
    "\n",
    "    mydb.commit()\n",
    "\n",
    "#     print(mycursor.rowcount, \"record inserted.\")\n",
    "    return str(response(userText))"
   ]
  },
  {
   "cell_type": "code",
   "execution_count": null,
   "metadata": {},
   "outputs": [
    {
     "name": "stdout",
     "output_type": "stream",
     "text": [
      " * Serving Flask app \"__main__\" (lazy loading)\n",
      " * Environment: production\n",
      "   WARNING: This is a development server. Do not use it in a production deployment.\n",
      "   Use a production WSGI server instead.\n",
      " * Debug mode: off\n"
     ]
    },
    {
     "name": "stderr",
     "output_type": "stream",
     "text": [
      " * Running on http://127.0.0.1:5000/ (Press CTRL+C to quit)\n",
      "127.0.0.1 - - [14/Apr/2020 17:48:52] \"\u001b[37mGET / HTTP/1.1\u001b[0m\" 200 -\n",
      "127.0.0.1 - - [14/Apr/2020 17:48:52] \"\u001b[37mGET /static/stylecss.css HTTP/1.1\u001b[0m\" 200 -\n",
      "127.0.0.1 - - [14/Apr/2020 17:48:52] \"\u001b[33mGET /img/profile.png HTTP/1.1\u001b[0m\" 404 -\n",
      "127.0.0.1 - - [14/Apr/2020 17:48:52] \"\u001b[37mGET /static/jsscript2.js HTTP/1.1\u001b[0m\" 200 -\n",
      "127.0.0.1 - - [14/Apr/2020 17:48:52] \"\u001b[33mGET /favicon.ico HTTP/1.1\u001b[0m\" 404 -\n",
      "127.0.0.1 - - [14/Apr/2020 17:49:35] \"\u001b[33mGET /img/profile.png HTTP/1.1\u001b[0m\" 404 -\n",
      "127.0.0.1 - - [14/Apr/2020 17:49:36] \"\u001b[37mGET /get?msg=bm+itu+apa%3F HTTP/1.1\u001b[0m\" 200 -\n",
      "127.0.0.1 - - [14/Apr/2020 17:49:38] \"\u001b[33mGET /img/profile.png HTTP/1.1\u001b[0m\" 404 -\n",
      "127.0.0.1 - - [14/Apr/2020 17:52:24] \"\u001b[33mGET /img/profile.png HTTP/1.1\u001b[0m\" 404 -\n",
      "127.0.0.1 - - [14/Apr/2020 17:52:24] \"\u001b[37mGET /get?msg=freight+itu+apa%3F HTTP/1.1\u001b[0m\" 200 -\n",
      "127.0.0.1 - - [14/Apr/2020 17:52:26] \"\u001b[33mGET /img/profile.png HTTP/1.1\u001b[0m\" 404 -\n",
      "127.0.0.1 - - [14/Apr/2020 17:57:10] \"\u001b[37mGET / HTTP/1.1\u001b[0m\" 200 -\n",
      "127.0.0.1 - - [14/Apr/2020 17:57:10] \"\u001b[33mGET /img/profile.png HTTP/1.1\u001b[0m\" 404 -\n",
      "127.0.0.1 - - [14/Apr/2020 17:57:10] \"\u001b[37mGET /static/stylecss.css HTTP/1.1\u001b[0m\" 200 -\n",
      "127.0.0.1 - - [14/Apr/2020 17:57:10] \"\u001b[37mGET /static/jsscript2.js HTTP/1.1\u001b[0m\" 200 -\n",
      "127.0.0.1 - - [14/Apr/2020 17:57:14] \"\u001b[33mGET /favicon.ico HTTP/1.1\u001b[0m\" 404 -\n",
      "127.0.0.1 - - [14/Apr/2020 17:58:19] \"\u001b[37mGET / HTTP/1.1\u001b[0m\" 200 -\n",
      "127.0.0.1 - - [14/Apr/2020 17:58:19] \"\u001b[37mGET /static/stylecss.css HTTP/1.1\u001b[0m\" 200 -\n",
      "127.0.0.1 - - [14/Apr/2020 17:58:19] \"\u001b[33mGET /img/profile.png HTTP/1.1\u001b[0m\" 404 -\n",
      "127.0.0.1 - - [14/Apr/2020 17:58:19] \"\u001b[37mGET /static/jsscript2.js HTTP/1.1\u001b[0m\" 200 -\n",
      "127.0.0.1 - - [14/Apr/2020 17:58:20] \"\u001b[33mGET /favicon.ico HTTP/1.1\u001b[0m\" 404 -\n",
      "127.0.0.1 - - [14/Apr/2020 17:59:21] \"\u001b[33mGET /img/profile.png HTTP/1.1\u001b[0m\" 404 -\n",
      "127.0.0.1 - - [14/Apr/2020 17:59:21] \"\u001b[37mGET /get?msg=bm+itu+apa%3F HTTP/1.1\u001b[0m\" 200 -\n",
      "127.0.0.1 - - [14/Apr/2020 17:59:22] \"\u001b[33mGET /img/profile.png HTTP/1.1\u001b[0m\" 404 -\n",
      "127.0.0.1 - - [14/Apr/2020 17:59:35] \"\u001b[33mGET /img/profile.png HTTP/1.1\u001b[0m\" 404 -\n",
      "127.0.0.1 - - [14/Apr/2020 17:59:35] \"\u001b[37mGET /get?msg=freight+itu+apa%3F HTTP/1.1\u001b[0m\" 200 -\n",
      "127.0.0.1 - - [14/Apr/2020 17:59:37] \"\u001b[33mGET /img/profile.png HTTP/1.1\u001b[0m\" 404 -\n",
      "127.0.0.1 - - [14/Apr/2020 17:59:43] \"\u001b[33mGET /img/profile.png HTTP/1.1\u001b[0m\" 404 -\n",
      "127.0.0.1 - - [14/Apr/2020 17:59:43] \"\u001b[37mGET /get?msg=ok HTTP/1.1\u001b[0m\" 200 -\n",
      "127.0.0.1 - - [14/Apr/2020 17:59:45] \"\u001b[33mGET /img/profile.png HTTP/1.1\u001b[0m\" 404 -\n",
      "127.0.0.1 - - [14/Apr/2020 17:59:53] \"\u001b[33mGET /img/profile.png HTTP/1.1\u001b[0m\" 404 -\n",
      "127.0.0.1 - - [14/Apr/2020 17:59:54] \"\u001b[37mGET /get?msg=teimakasih HTTP/1.1\u001b[0m\" 200 -\n",
      "127.0.0.1 - - [14/Apr/2020 17:59:55] \"\u001b[33mGET /img/profile.png HTTP/1.1\u001b[0m\" 404 -\n",
      "127.0.0.1 - - [14/Apr/2020 18:00:04] \"\u001b[33mGET /img/profile.png HTTP/1.1\u001b[0m\" 404 -\n",
      "127.0.0.1 - - [14/Apr/2020 18:00:04] \"\u001b[37mGET /get?msg=terimakasih HTTP/1.1\u001b[0m\" 200 -\n",
      "127.0.0.1 - - [14/Apr/2020 18:00:07] \"\u001b[33mGET /img/profile.png HTTP/1.1\u001b[0m\" 404 -\n",
      "127.0.0.1 - - [14/Apr/2020 18:09:53] \"\u001b[37mGET / HTTP/1.1\u001b[0m\" 200 -\n",
      "127.0.0.1 - - [14/Apr/2020 18:09:53] \"\u001b[37mGET /static/stylecss.css HTTP/1.1\u001b[0m\" 200 -\n",
      "127.0.0.1 - - [14/Apr/2020 18:09:53] \"\u001b[37mGET /static/jsscript2.js HTTP/1.1\u001b[0m\" 200 -\n",
      "127.0.0.1 - - [14/Apr/2020 18:09:53] \"\u001b[33mGET /img/profile.png HTTP/1.1\u001b[0m\" 404 -\n",
      "127.0.0.1 - - [14/Apr/2020 18:09:58] \"\u001b[33mGET /favicon.ico HTTP/1.1\u001b[0m\" 404 -\n",
      "127.0.0.1 - - [14/Apr/2020 18:11:23] \"\u001b[33mGET /img/profile.png HTTP/1.1\u001b[0m\" 404 -\n",
      "127.0.0.1 - - [14/Apr/2020 18:11:23] \"\u001b[37mGET /get?msg=bm+itu+apa%3F HTTP/1.1\u001b[0m\" 200 -\n",
      "127.0.0.1 - - [14/Apr/2020 18:11:25] \"\u001b[33mGET /img/profile.png HTTP/1.1\u001b[0m\" 404 -\n",
      "127.0.0.1 - - [14/Apr/2020 18:11:37] \"\u001b[33mGET /img/profile.png HTTP/1.1\u001b[0m\" 404 -\n",
      "127.0.0.1 - - [14/Apr/2020 18:11:37] \"\u001b[37mGET /get?msg=apa+yang+dimaksud+freight%3F HTTP/1.1\u001b[0m\" 200 -\n",
      "127.0.0.1 - - [14/Apr/2020 18:11:39] \"\u001b[33mGET /img/profile.png HTTP/1.1\u001b[0m\" 404 -\n",
      "127.0.0.1 - - [14/Apr/2020 18:12:01] \"\u001b[33mGET /img/profile.png HTTP/1.1\u001b[0m\" 404 -\n",
      "127.0.0.1 - - [14/Apr/2020 18:12:01] \"\u001b[37mGET /get?msg=mengapa+saya+terkena+bm+25%25%3F HTTP/1.1\u001b[0m\" 200 -\n",
      "127.0.0.1 - - [14/Apr/2020 18:12:03] \"\u001b[33mGET /img/profile.png HTTP/1.1\u001b[0m\" 404 -\n",
      "127.0.0.1 - - [14/Apr/2020 18:12:10] \"\u001b[33mGET /img/profile.png HTTP/1.1\u001b[0m\" 404 -\n",
      "127.0.0.1 - - [14/Apr/2020 18:12:10] \"\u001b[37mGET /get?msg=terimakasih HTTP/1.1\u001b[0m\" 200 -\n",
      "127.0.0.1 - - [14/Apr/2020 18:12:12] \"\u001b[33mGET /img/profile.png HTTP/1.1\u001b[0m\" 404 -\n"
     ]
    }
   ],
   "source": [
    "if __name__ == \"__main__\":\n",
    "    app.run()"
   ]
  },
  {
   "cell_type": "code",
   "execution_count": null,
   "metadata": {},
   "outputs": [],
   "source": [
    "# print(classify('?'))\n",
    "x = response('hahaha')\n",
    "print(x)"
   ]
  },
  {
   "cell_type": "code",
   "execution_count": null,
   "metadata": {},
   "outputs": [],
   "source": []
  }
 ],
 "metadata": {
  "kernelspec": {
   "display_name": "Python 3",
   "language": "python",
   "name": "python3"
  },
  "language_info": {
   "codemirror_mode": {
    "name": "ipython",
    "version": 3
   },
   "file_extension": ".py",
   "mimetype": "text/x-python",
   "name": "python",
   "nbconvert_exporter": "python",
   "pygments_lexer": "ipython3",
   "version": "3.7.0"
  }
 },
 "nbformat": 4,
 "nbformat_minor": 2
}
